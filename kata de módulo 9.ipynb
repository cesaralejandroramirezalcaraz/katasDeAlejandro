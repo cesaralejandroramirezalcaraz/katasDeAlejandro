{
 "cells": [
  {
   "cell_type": "code",
   "execution_count": 3,
   "metadata": {},
   "outputs": [
    {
     "name": "stdout",
     "output_type": "stream",
     "text": [
      "\n",
      "    total de combustible: 78.33333333333333%\n",
      "    tanque1: 80%\n",
      "    tanque2: 70%\n",
      "    tanque3: 85% \n",
      "    \n",
      "\n",
      "    total de combustible: 78.0%\n",
      "    tanque1: 88%\n",
      "    tanque2: 76%\n",
      "    tanque3: 70% \n",
      "    \n"
     ]
    }
   ],
   "source": [
    "\n",
    "def reporte(tanque1, tanque2, tanque3):\n",
    "    total = (tanque1+tanque2+tanque3) / 3\n",
    "    return f\"\"\"\n",
    "    total de combustible: {total}%\n",
    "    tanque1: {tanque1}%\n",
    "    tanque2: {tanque2}%\n",
    "    tanque3: {tanque3}% \n",
    "    \"\"\"\n",
    "print(reporte(80, 70, 85))\n",
    "\n",
    "def average(values):\n",
    "    total = sum(values)\n",
    "    number_of_items = len(values)\n",
    "    return total / number_of_items\n",
    "average([80, 85, 81]) \n",
    "\n",
    "\n",
    "\n",
    "def reporte(tanque1, tanque2, tanque3):\n",
    "    \n",
    "    return f\"\"\"\n",
    "    total de combustible: {average([tanque1, tanque2, tanque3])}%\n",
    "    tanque1: {tanque1}%\n",
    "    tanque2: {tanque2}%\n",
    "    tanque3: {tanque3}% \n",
    "    \"\"\"\n",
    "\n",
    "print(reporte(88, 76, 70))"
   ]
  },
  {
   "cell_type": "code",
   "execution_count": 4,
   "metadata": {},
   "outputs": [
    {
     "name": "stdout",
     "output_type": "stream",
     "text": [
      "\n",
      "    Mission to Moon\n",
      "    Total travel time: 65 minutes\n",
      "    Total fuel left: 500000 gallons\n",
      "    \n",
      "\n",
      "    Mission to Moon\n",
      "    Total travel time: 76 minutes\n",
      "    Total fuel left: 500000\n",
      "    \n"
     ]
    }
   ],
   "source": [
    "\n",
    "def mission_report(pre_launch_time, flight_time, destination, external_tank, main_tank):\n",
    "    return f\"\"\"\n",
    "    Mission to {destination}\n",
    "    Total travel time: {pre_launch_time + flight_time} minutes\n",
    "    Total fuel left: {external_tank + main_tank} gallons\n",
    "    \"\"\"\n",
    "\n",
    "print(mission_report(14, 51, \"Moon\", 200000, 300000))\n",
    "\n",
    "def mission_report(destination, *minutes, **fuel_reservoirs):\n",
    "    return f\"\"\"\n",
    "    Mission to {destination}\n",
    "    Total travel time: {sum(minutes)} minutes\n",
    "    Total fuel left: {sum(fuel_reservoirs.values())}\n",
    "    \"\"\"\n",
    "\n",
    "print(mission_report(\"Moon\", 10, 15, 51, main=300000, external=200000))\n",
    "\n",
    "\n",
    "def mission_report(destination, *minutes, **fuel_reservoirs):\n",
    "    main_report = f\"\"\"\n",
    "    Mission to {destination}\n",
    "    Total travel time: {sum(minutes)} minutes\n",
    "    Total fuel left: {sum(fuel_reservoirs.values())}\n",
    "    \"\"\"\n",
    "    for tank_name, gallons in fuel_reservoirs.items():\n",
    "        main_report += f\"{tank_name} tank --> {gallons} gallons left\\n\"\n",
    "    return main_report\n"
   ]
  }
 ],
 "metadata": {
  "interpreter": {
   "hash": "704b41964c58a800a5a6700a2174579c4e681647a1dddba1deda40fdbe59d632"
  },
  "kernelspec": {
   "display_name": "Python 3.10.2 64-bit (windows store)",
   "language": "python",
   "name": "python3"
  },
  "language_info": {
   "codemirror_mode": {
    "name": "ipython",
    "version": 3
   },
   "file_extension": ".py",
   "mimetype": "text/x-python",
   "name": "python",
   "nbconvert_exporter": "python",
   "pygments_lexer": "ipython3",
   "version": "3.10.2"
  },
  "orig_nbformat": 4
 },
 "nbformat": 4,
 "nbformat_minor": 2
}
