{
 "cells": [
  {
   "cell_type": "code",
   "execution_count": 21,
   "metadata": {},
   "outputs": [
    {
     "name": "stdout",
     "output_type": "stream",
     "text": [
      "8 planetas\n",
      "9 planetas\n",
      "Pluton\n"
     ]
    }
   ],
   "source": [
    "planetas =[\"mercurio\", \"venus\", \"tierra\",\"marte\" , \"jupiter\", \"saturno\", \"urano\",  \"neptuno\"]\n",
    "print( len(planetas), 'planetas')\n",
    "planetas.append('Pluton')\n",
    "print( len(planetas), 'planetas')\n",
    "print(planetas[-1])\n"
   ]
  },
  {
   "cell_type": "code",
   "execution_count": 26,
   "metadata": {},
   "outputs": [
    {
     "name": "stdout",
     "output_type": "stream",
     "text": [
      "antes que  Pluton\n",
      "['Mercury', 'Venus', 'Earth', 'Mars', 'Jupiter', 'Saturn', 'Neptune']\n",
      "despuesPluton\n",
      "[]\n"
     ]
    }
   ],
   "source": [
    "planets = ['Mercury', 'Venus', 'Earth', 'Mars', 'Jupiter', 'Saturn', 'Neptune']\n",
    "nuevo_planeta=input(\"ingresa el nombre de un planeta con la primera letra mayuscula\")\n",
    "planets.append(nuevo_planeta)\n",
    "busqueda = planets.index(nuevo_planeta)\n",
    "print('antes que  ' + nuevo_planeta)\n",
    "print(planets[0:busqueda])\n",
    "print('despues que ' +nuevo_planeta)\n",
    "print(planets[busqueda + 1:])"
   ]
  }
 ],
 "metadata": {
  "interpreter": {
   "hash": "704b41964c58a800a5a6700a2174579c4e681647a1dddba1deda40fdbe59d632"
  },
  "kernelspec": {
   "display_name": "Python 3.10.2 64-bit (windows store)",
   "language": "python",
   "name": "python3"
  },
  "language_info": {
   "codemirror_mode": {
    "name": "ipython",
    "version": 3
   },
   "file_extension": ".py",
   "mimetype": "text/x-python",
   "name": "python",
   "nbconvert_exporter": "python",
   "pygments_lexer": "ipython3",
   "version": "3.10.2"
  },
  "orig_nbformat": 4
 },
 "nbformat": 4,
 "nbformat_minor": 2
}
