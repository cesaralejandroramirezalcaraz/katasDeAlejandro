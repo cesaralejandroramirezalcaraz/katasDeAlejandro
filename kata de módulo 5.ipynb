{
 "cells": [
  {
   "cell_type": "code",
   "execution_count": 8,
   "metadata": {},
   "outputs": [
    {
     "name": "stdout",
     "output_type": "stream",
     "text": [
      "distancia en km: 628949330\n",
      "distancia en millas: 390577533.93\n"
     ]
    }
   ],
   "source": [
    "#Tierra (149.597.870 km) y Júpiter (778.547.200 km).\n",
    "\n",
    "dis_tierra = 149597870\n",
    "dis_jupiter=778547200\n",
    "\n",
    "resultado=dis_jupiter-dis_tierra\n",
    "res_millas=resultado*0.621\n",
    "print(\"distancia en km: \"+str(resultado)+\"\\n\"+ \"distancia en millas: \"+str(res_millas) )\n",
    "\n"
   ]
  },
  {
   "cell_type": "code",
   "execution_count": 26,
   "metadata": {},
   "outputs": [
    {
     "name": "stdout",
     "output_type": "stream",
     "text": [
      "distancia en km: 628949330\n",
      "distancia en millas: 390577533.93\n"
     ]
    }
   ],
   "source": [
    " planeta_1= input('planeta1')\n",
    " planeta_2= input('planeta2')\n",
    "\n",
    "planeta1=int(planeta_1)\n",
    "planeta2=int(planeta_2)\n",
    "resultado=0\n",
    "if(planeta1>planeta2):\n",
    "    resultado = planeta1-planeta2\n",
    "else:\n",
    "    resultado = planeta2-planeta1\n",
    "\n",
    "res_millas=resultado*0.621\n",
    "print(\"distancia en km: \"+str(resultado)+\"\\n\"+ \"distancia en millas: \"+str(res_millas) )\n",
    "\n",
    "# se me ocurrio  que  la forma correcta es restar el valor mas pequeño del mas grande de esa forma no ocupo el abs :)\n",
    "\n",
    "\n",
    "\n",
    "\n",
    "\n",
    "\n",
    "\n",
    "\n"
   ]
  }
 ],
 "metadata": {
  "interpreter": {
   "hash": "704b41964c58a800a5a6700a2174579c4e681647a1dddba1deda40fdbe59d632"
  },
  "kernelspec": {
   "display_name": "Python 3.10.2 64-bit (windows store)",
   "language": "python",
   "name": "python3"
  },
  "language_info": {
   "codemirror_mode": {
    "name": "ipython",
    "version": 3
   },
   "file_extension": ".py",
   "mimetype": "text/x-python",
   "name": "python",
   "nbconvert_exporter": "python",
   "pygments_lexer": "ipython3",
   "version": "3.10.2"
  },
  "orig_nbformat": 4
 },
 "nbformat": 4,
 "nbformat_minor": 2
}
