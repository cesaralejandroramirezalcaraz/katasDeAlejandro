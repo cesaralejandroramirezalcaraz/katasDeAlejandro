{
 "cells": [
  {
   "cell_type": "code",
   "execution_count": 40,
   "metadata": {},
   "outputs": [
    {
     "name": "stdout",
     "output_type": "stream",
     "text": [
      "tierra\n",
      "marte\n",
      "exit\n"
     ]
    }
   ],
   "source": [
    "nuevo_planeta=\"\"\n",
    "planetas =[]\n",
    "i=0\n",
    "while nuevo_planeta.lower() != 'exit':\n",
    "    nuevo_planeta=input(\"ingresa un planeta ingresa exit para terminar\")\n",
    "    planetas.append(nuevo_planeta)\n",
    "    print(planetas[i])\n",
    "    i=i+1\n",
    "\n",
    "  "
   ]
  },
  {
   "cell_type": "code",
   "execution_count": 42,
   "metadata": {},
   "outputs": [
    {
     "name": "stdout",
     "output_type": "stream",
     "text": [
      "tierra\n",
      "marte\n",
      "exit\n"
     ]
    }
   ],
   "source": [
    "for key in planetas:\n",
    "    print(key)"
   ]
  }
 ],
 "metadata": {
  "interpreter": {
   "hash": "704b41964c58a800a5a6700a2174579c4e681647a1dddba1deda40fdbe59d632"
  },
  "kernelspec": {
   "display_name": "Python 3.10.2 64-bit (windows store)",
   "language": "python",
   "name": "python3"
  },
  "language_info": {
   "codemirror_mode": {
    "name": "ipython",
    "version": 3
   },
   "file_extension": ".py",
   "mimetype": "text/x-python",
   "name": "python",
   "nbconvert_exporter": "python",
   "pygments_lexer": "ipython3",
   "version": "3.10.2"
  },
  "orig_nbformat": 4
 },
 "nbformat": 4,
 "nbformat_minor": 2
}
